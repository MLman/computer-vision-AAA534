{
 "cells": [
  {
   "cell_type": "markdown",
   "metadata": {},
   "source": [
    "# 2019 Computer Vision (AAA534)\n",
    "\n",
    "## Chapter 3. image resampling\n",
    "\n",
    "Code by JunYeup Cho, JongMin Lee"
   ]
  },
  {
   "cell_type": "code",
   "execution_count": 1,
   "metadata": {},
   "outputs": [],
   "source": [
    "# import opencv, numpy\n",
    "import os\n",
    "import cv2\n",
    "import numpy as np\n",
    "import matplotlib.pyplot as plt"
   ]
  },
  {
   "cell_type": "code",
   "execution_count": 2,
   "metadata": {},
   "outputs": [],
   "source": [
    "# utility function for displaying multiple images\n",
    "def ShowImgs(images, titles, row, column, size):\n",
    "    fig = plt.figure(figsize = size)\n",
    "    for i in range(len(images)):\n",
    "        # cmap = 'gray' is ignored if image is 3D\n",
    "        fig.add_subplot(row, column, i+1), plt.imshow(images[i], cmap = 'gray'), plt.title(titles[i])\n",
    "        plt.xticks([]),plt.yticks([])\n",
    "\n",
    "    plt.show()"
   ]
  },
  {
   "cell_type": "markdown",
   "metadata": {},
   "source": [
    "### Part 1. Image scaling"
   ]
  },
  {
   "cell_type": "code",
   "execution_count": 3,
   "metadata": {},
   "outputs": [],
   "source": [
    "# scaling by cv2.resize\n",
    "img = cv2.imread('logo.png')\n",
    "height, width = img.shape[:2]\n",
    "\n",
    "shrink = cv2.resize(img, None, fx=0.5, fy=0.5, interpolation=cv2.INTER_AREA)\n",
    "zoom1 = cv2.resize(img, (width*2, height*2), interpolation=cv2.INTER_CUBIC)\n",
    "zoom2 = cv2.resize(img, None, fx=2, fy=2, interpolation=cv2.INTER_CUBIC)\n",
    "\n",
    "cv2.imshow('Original', img)\n",
    "cv2.imshow('Shrink', shrink)\n",
    "cv2.imshow('Zoom1', zoom1)\n",
    "cv2.imshow('Zoom2', zoom2)\n",
    "\n",
    "cv2.waitKey(0)\n",
    "cv2.destroyAllWindows()"
   ]
  },
  {
   "cell_type": "markdown",
   "metadata": {},
   "source": [
    "### Part 2. Image pyramid"
   ]
  },
  {
   "cell_type": "code",
   "execution_count": 4,
   "metadata": {},
   "outputs": [],
   "source": [
    "# gaussian image pyramid with cv2.pyrUp & cv2.pyrDown\n",
    "img = cv2.imread('lena.png')\n",
    "\n",
    "lower_reso = cv2.pyrDown(img) # *1/4 \n",
    "higher_reso = cv2.pyrUp(img)  # *4\n",
    "\n",
    "cv2.imshow('img', img)\n",
    "cv2.imshow('lower', lower_reso)\n",
    "cv2.imshow('higher', higher_reso)\n",
    "\n",
    "cv2.waitKey(0)\n",
    "cv2.destroyAllWindows()"
   ]
  },
  {
   "cell_type": "code",
   "execution_count": 5,
   "metadata": {},
   "outputs": [
    {
     "name": "stdout",
     "output_type": "stream",
     "text": [
      "(220, 220, 3)\n"
     ]
    }
   ],
   "source": [
    "# laplacian image pyramid by subtracting a level in Pyramid and expanded version of its upper level in Pyramid\n",
    "gp_down = cv2.pyrDown(img)\n",
    "print(img.shape)\n",
    "gp_up = cv2.pyrUp(gp_down)\n",
    "temp = cv2.resize(gp_up, (220, 220))\n",
    "result = cv2.subtract(img, temp)\n",
    "\n",
    "cv2.imshow('laplacian', result)\n",
    "cv2.waitKey(0)\n",
    "cv2.destroyAllWindows()"
   ]
  }
 ],
 "metadata": {
  "kernelspec": {
   "display_name": "Python 3",
   "language": "python",
   "name": "python3"
  },
  "language_info": {
   "codemirror_mode": {
    "name": "ipython",
    "version": 3
   },
   "file_extension": ".py",
   "mimetype": "text/x-python",
   "name": "python",
   "nbconvert_exporter": "python",
   "pygments_lexer": "ipython3",
   "version": "3.7.1"
  }
 },
 "nbformat": 4,
 "nbformat_minor": 2
}
