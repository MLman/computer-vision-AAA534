{
 "cells": [
  {
   "cell_type": "code",
   "execution_count": 19,
   "metadata": {},
   "outputs": [],
   "source": [
    "# Codes from pythorch tutorial\n",
    "# https://pytorch.org/tutorials/beginner/blitz/cifar10_tutorial.html\n",
    "\n",
    "import torch\n",
    "import torchvision\n",
    "import torchvision.transforms as transforms"
   ]
  },
  {
   "cell_type": "code",
   "execution_count": 7,
   "metadata": {},
   "outputs": [
    {
     "name": "stderr",
     "output_type": "stream",
     "text": [
      "\n",
      "0it [00:00, ?it/s]\u001b[A"
     ]
    },
    {
     "name": "stdout",
     "output_type": "stream",
     "text": [
      "Downloading https://www.cs.toronto.edu/~kriz/cifar-10-python.tar.gz to ./data/cifar-10-python.tar.gz\n"
     ]
    },
    {
     "name": "stderr",
     "output_type": "stream",
     "text": [
      "\n",
      "  0%|          | 0/170498071 [00:00<?, ?it/s]\u001b[A\n",
      "  0%|          | 8192/170498071 [00:00<59:28, 47779.79it/s]\u001b[A\n",
      "  0%|          | 40960/170498071 [00:01<46:05, 61631.68it/s]\u001b[A\n",
      "  0%|          | 106496/170498071 [00:01<34:29, 82336.38it/s]\u001b[A\n",
      "  0%|          | 221184/170498071 [00:01<25:24, 111713.17it/s]\u001b[A\n",
      "  0%|          | 450560/170498071 [00:01<18:23, 154085.66it/s]\u001b[A\n",
      "  1%|          | 909312/170498071 [00:01<13:09, 214813.76it/s]\u001b[A\n",
      "  1%|          | 1843200/170498071 [00:01<09:18, 301755.97it/s]\u001b[A\n",
      "  2%|▏         | 3137536/170498071 [00:02<06:37, 420977.83it/s]\u001b[A\n",
      "  2%|▏         | 3481600/170498071 [00:02<05:03, 550619.24it/s]\u001b[A\n",
      "  4%|▎         | 6266880/170498071 [00:02<03:31, 775251.49it/s]\u001b[A\n",
      "  5%|▍         | 8347648/170498071 [00:02<02:32, 1062980.47it/s]\u001b[A\n",
      "  6%|▋         | 10821632/170498071 [00:02<01:47, 1490507.80it/s]\u001b[A\n",
      "  7%|▋         | 12058624/170498071 [00:03<01:21, 1954962.34it/s]\u001b[A\n",
      "  8%|▊         | 13139968/170498071 [00:03<01:03, 2484503.39it/s]\u001b[A\n",
      "  9%|▊         | 14655488/170498071 [00:03<00:49, 3171625.66it/s]\u001b[A\n",
      " 10%|▉         | 16261120/170498071 [00:03<00:38, 3956257.54it/s]\u001b[A\n",
      " 10%|█         | 17899520/170498071 [00:03<00:31, 4788810.31it/s]\u001b[A\n",
      " 11%|█▏        | 19554304/170498071 [00:03<00:26, 5615386.88it/s]\u001b[A\n",
      " 12%|█▏        | 21225472/170498071 [00:04<00:23, 6429269.75it/s]\u001b[A\n",
      " 13%|█▎        | 22896640/170498071 [00:04<00:20, 7195212.92it/s]\u001b[A\n",
      " 14%|█▍        | 24600576/170498071 [00:04<00:18, 7775882.45it/s]\u001b[A\n",
      " 15%|█▌        | 26304512/170498071 [00:04<00:17, 8354910.73it/s]\u001b[A\n",
      " 16%|█▋        | 28041216/170498071 [00:04<00:16, 8765760.62it/s]\u001b[A\n",
      " 17%|█▋        | 29024256/170498071 [00:04<00:20, 6867278.84it/s]\u001b[A\n",
      " 18%|█▊        | 31137792/170498071 [00:05<00:16, 8351654.14it/s]\u001b[A\n",
      " 19%|█▉        | 32366592/170498071 [00:05<00:17, 7774944.32it/s]\u001b[A\n",
      " 20%|█▉        | 33595392/170498071 [00:05<00:17, 7687200.81it/s]\u001b[A\n",
      " 20%|██        | 34840576/170498071 [00:05<00:17, 7601738.18it/s]\u001b[A\n",
      " 21%|██        | 36085760/170498071 [00:05<00:16, 8359219.51it/s]\u001b[A\n",
      " 22%|██▏       | 37011456/170498071 [00:05<00:16, 8125039.20it/s]\u001b[A\n",
      " 22%|██▏       | 37888000/170498071 [00:06<00:18, 7051574.36it/s]\u001b[A\n",
      " 23%|██▎       | 38674432/170498071 [00:06<00:18, 6940634.21it/s]\u001b[A\n",
      " 23%|██▎       | 39952384/170498071 [00:06<00:16, 7838395.46it/s]\u001b[A\n",
      " 24%|██▍       | 40812544/170498071 [00:06<00:16, 7633405.51it/s]\u001b[A\n",
      " 24%|██▍       | 41631744/170498071 [00:06<00:19, 6629372.00it/s]\u001b[A\n",
      " 25%|██▍       | 42622976/170498071 [00:06<00:18, 7036481.44it/s]\u001b[A\n",
      " 26%|██▌       | 43950080/170498071 [00:06<00:15, 7962793.78it/s]\u001b[A\n",
      " 26%|██▋       | 44826624/170498071 [00:06<00:16, 7759624.59it/s]\u001b[A\n",
      " 27%|██▋       | 45662208/170498071 [00:07<00:18, 6739140.23it/s]\u001b[A\n",
      " 27%|██▋       | 46686208/170498071 [00:07<00:17, 7215103.04it/s]\u001b[A\n",
      " 28%|██▊       | 48029696/170498071 [00:07<00:15, 8161592.13it/s]\u001b[A\n",
      " 29%|██▊       | 48930816/170498071 [00:07<00:22, 5306540.63it/s]\u001b[A\n",
      " 30%|██▉       | 50470912/170498071 [00:07<00:18, 6565167.07it/s]\u001b[A\n",
      " 30%|███       | 51421184/170498071 [00:07<00:18, 6376569.75it/s]\u001b[A\n",
      " 31%|███       | 52404224/170498071 [00:07<00:17, 6863093.95it/s]\u001b[A\n",
      " 31%|███       | 53248000/170498071 [00:08<00:17, 6585526.35it/s]\u001b[A\n",
      " 32%|███▏      | 54018048/170498071 [00:08<00:19, 5850079.99it/s]\u001b[A\n",
      " 32%|███▏      | 54697984/170498071 [00:08<00:21, 5353892.85it/s]\u001b[A\n",
      " 33%|███▎      | 55468032/170498071 [00:08<00:20, 5725161.32it/s]\u001b[A\n",
      " 33%|███▎      | 56483840/170498071 [00:08<00:17, 6429228.21it/s]\u001b[A\n",
      " 34%|███▎      | 57196544/170498071 [00:08<00:19, 5901457.67it/s]\u001b[A\n",
      " 34%|███▍      | 57843712/170498071 [00:08<00:21, 5357352.25it/s]\u001b[A\n",
      " 34%|███▍      | 58630144/170498071 [00:09<00:19, 5769479.35it/s]\u001b[A\n",
      " 35%|███▌      | 59695104/170498071 [00:09<00:18, 5983468.39it/s]\u001b[A\n",
      " 35%|███▌      | 60432384/170498071 [00:09<00:17, 6340470.58it/s]\u001b[A\n",
      " 36%|███▌      | 61095936/170498071 [00:09<00:19, 5695848.92it/s]\u001b[A\n",
      " 36%|███▋      | 61890560/170498071 [00:09<00:17, 6076095.16it/s]\u001b[A\n",
      " 37%|███▋      | 62906368/170498071 [00:09<00:15, 6887535.53it/s]\u001b[A\n",
      " 37%|███▋      | 63660032/170498071 [00:09<00:17, 6167187.61it/s]\u001b[A\n",
      " 38%|███▊      | 64331776/170498071 [00:09<00:19, 5570180.87it/s]\u001b[A\n",
      " 38%|███▊      | 65200128/170498071 [00:10<00:17, 6079171.67it/s]\u001b[A\n",
      " 39%|███▉      | 66150400/170498071 [00:10<00:15, 6811901.07it/s]\u001b[A\n",
      " 39%|███▉      | 66895872/170498071 [00:10<00:16, 6193591.95it/s]\u001b[A\n",
      " 40%|███▉      | 67575808/170498071 [00:10<00:18, 5550688.17it/s]\u001b[A\n",
      " 40%|████      | 68575232/170498071 [00:10<00:16, 6308995.43it/s]\u001b[A\n",
      " 41%|████      | 69328896/170498071 [00:10<00:15, 6625710.50it/s]\u001b[A\n",
      " 41%|████      | 70049792/170498071 [00:10<00:16, 6014568.50it/s]\u001b[A\n",
      " 42%|████▏     | 70868992/170498071 [00:10<00:15, 6393727.05it/s]\u001b[A\n",
      " 42%|████▏     | 71852032/170498071 [00:11<00:13, 7137304.09it/s]\u001b[A\n",
      " 43%|████▎     | 72622080/170498071 [00:11<00:15, 6418438.89it/s]\u001b[A\n",
      " 43%|████▎     | 73318400/170498071 [00:11<00:16, 5767849.49it/s]\u001b[A\n",
      " 44%|████▎     | 74309632/170498071 [00:11<00:14, 6560358.03it/s]\u001b[A\n",
      " 44%|████▍     | 75038720/170498071 [00:11<00:16, 5823556.37it/s]\u001b[A\n",
      " 44%|████▍     | 75694080/170498071 [00:11<00:15, 6000380.84it/s]\u001b[A\n",
      " 45%|████▍     | 76668928/170498071 [00:11<00:13, 6758315.69it/s]\u001b[A\n",
      " 45%|████▌     | 77414400/170498071 [00:11<00:15, 6194869.55it/s]\u001b[A\n",
      " 46%|████▌     | 78094336/170498071 [00:12<00:14, 6199463.35it/s]\u001b[A\n",
      " 46%|████▋     | 79028224/170498071 [00:12<00:13, 6802851.40it/s]\u001b[A\n",
      " 47%|████▋     | 79757312/170498071 [00:12<00:14, 6430630.25it/s]\u001b[A\n",
      " 47%|████▋     | 80437248/170498071 [00:12<00:14, 6347087.02it/s]\u001b[A\n",
      " 48%|████▊     | 81338368/170498071 [00:12<00:12, 6953083.01it/s]\u001b[A\n",
      " 48%|████▊     | 82075648/170498071 [00:12<00:14, 6171112.61it/s]\u001b[A\n",
      " 49%|████▊     | 82739200/170498071 [00:12<00:14, 6215507.80it/s]\u001b[A\n",
      " 49%|████▉     | 83632128/170498071 [00:12<00:12, 6831983.10it/s]\u001b[A\n",
      " 49%|████▉     | 84361216/170498071 [00:12<00:12, 6711072.56it/s]\u001b[A\n",
      " 50%|████▉     | 85065728/170498071 [00:13<00:13, 6367863.87it/s]\u001b[A\n",
      " 50%|█████     | 85860352/170498071 [00:13<00:12, 6771013.26it/s]\u001b[A\n",
      " 51%|█████     | 86597632/170498071 [00:13<00:12, 6926700.09it/s]\u001b[A\n",
      " 51%|█████     | 87310336/170498071 [00:13<00:12, 6458041.18it/s]\u001b[A\n",
      " 52%|█████▏    | 88055808/170498071 [00:13<00:12, 6724057.00it/s]\u001b[A\n",
      " 52%|█████▏    | 88743936/170498071 [00:13<00:12, 6622554.67it/s]\u001b[A\n",
      " 53%|█████▎    | 89628672/170498071 [00:13<00:12, 6609159.28it/s]\u001b[A\n",
      " 53%|█████▎    | 90398720/170498071 [00:13<00:11, 6888423.47it/s]\u001b[A\n",
      " 53%|█████▎    | 91103232/170498071 [00:13<00:11, 6771223.90it/s]\u001b[A\n",
      " 54%|█████▍    | 91987968/170498071 [00:14<00:11, 6709802.18it/s]\u001b[A\n",
      " 54%|█████▍    | 92741632/170498071 [00:14<00:11, 6925025.29it/s]\u001b[A\n",
      " 55%|█████▍    | 93446144/170498071 [00:14<00:11, 6759061.09it/s]\u001b[A\n",
      " 55%|█████▌    | 94347264/170498071 [00:14<00:11, 6763679.80it/s]\u001b[A\n",
      " 56%|█████▌    | 95117312/170498071 [00:14<00:10, 6981855.70it/s]\u001b[A\n",
      " 56%|█████▌    | 95821824/170498071 [00:14<00:11, 6751274.56it/s]\u001b[A\n",
      " 57%|█████▋    | 96706560/170498071 [00:14<00:10, 6766594.08it/s]\u001b[A\n",
      " 57%|█████▋    | 97460224/170498071 [00:14<00:10, 6979214.69it/s]\u001b[A\n",
      " 58%|█████▊    | 98164736/170498071 [00:15<00:10, 6770376.57it/s]\u001b[A\n",
      " 58%|█████▊    | 99065856/170498071 [00:15<00:10, 6785689.48it/s]\u001b[A\n",
      " 59%|█████▊    | 99819520/170498071 [00:15<00:10, 6977848.77it/s]\u001b[A\n",
      " 59%|█████▉    | 100524032/170498071 [00:15<00:10, 6786014.68it/s]\u001b[A\n",
      " 59%|█████▉    | 101425152/170498071 [00:15<00:10, 6788474.73it/s]\u001b[A\n",
      " 60%|█████▉    | 102178816/170498071 [00:15<00:09, 6943669.74it/s]\u001b[A\n",
      " 60%|██████    | 102883328/170498071 [00:15<00:09, 6809896.34it/s]\u001b[A\n",
      " 61%|██████    | 103784448/170498071 [00:15<00:09, 6745279.96it/s]\u001b[A\n",
      " 61%|██████▏   | 104554496/170498071 [00:15<00:09, 6955605.88it/s]\u001b[A\n",
      " 62%|██████▏   | 105259008/170498071 [00:16<00:09, 6772470.52it/s]\u001b[A\n",
      " 62%|██████▏   | 106143744/170498071 [00:16<00:09, 6823337.24it/s]\u001b[A\n",
      " 63%|██████▎   | 106897408/170498071 [00:16<00:09, 6914151.44it/s]\u001b[A\n",
      " 63%|██████▎   | 107593728/170498071 [00:16<00:09, 6818971.98it/s]\u001b[A\n",
      " 64%|██████▎   | 108519424/170498071 [00:16<00:09, 6789870.90it/s]\u001b[A\n",
      " 64%|██████▍   | 109273088/170498071 [00:16<00:08, 6943808.93it/s]\u001b[A\n",
      " 64%|██████▍   | 109969408/170498071 [00:16<00:08, 6844696.41it/s]\u001b[A\n",
      " 65%|██████▌   | 110878720/170498071 [00:16<00:08, 6818114.52it/s]\u001b[A\n",
      " 65%|██████▌   | 111648768/170498071 [00:16<00:08, 6988857.06it/s]\u001b[A\n",
      " 66%|██████▌   | 112353280/170498071 [00:17<00:08, 6825228.49it/s]\u001b[A\n",
      " 66%|██████▋   | 113270784/170498071 [00:17<00:08, 6816535.71it/s]\u001b[A\n",
      " 67%|██████▋   | 114024448/170498071 [00:17<00:08, 6932517.46it/s]\u001b[A\n",
      " 67%|██████▋   | 114720768/170498071 [00:17<00:08, 6929994.51it/s]\u001b[A\n",
      " 68%|██████▊   | 115630080/170498071 [00:17<00:07, 6883743.60it/s]\u001b[A\n",
      " 68%|██████▊   | 116400128/170498071 [00:17<00:07, 7065541.59it/s]\u001b[A\n",
      " 69%|██████▊   | 117112832/170498071 [00:17<00:07, 6868213.84it/s]\u001b[A\n",
      " 69%|██████▉   | 118022144/170498071 [00:17<00:07, 6866550.89it/s]\u001b[A\n",
      " 70%|██████▉   | 118792192/170498071 [00:18<00:07, 6969109.24it/s]\u001b[A\n",
      " 70%|███████   | 119496704/170498071 [00:18<00:07, 6963566.61it/s]\u001b[A\n",
      " 71%|███████   | 120414208/170498071 [00:18<00:07, 6933175.09it/s]\u001b[A\n",
      " 71%|███████   | 121184256/170498071 [00:18<00:07, 6983682.51it/s]\u001b[A\n",
      " 71%|███████▏  | 121905152/170498071 [00:18<00:06, 7025999.41it/s]\u001b[A\n",
      " 72%|███████▏  | 122822656/170498071 [00:18<00:06, 6968481.98it/s]\u001b[A\n",
      " 72%|███████▏  | 123609088/170498071 [00:18<00:06, 7010140.98it/s]\u001b[A\n",
      " 73%|███████▎  | 124329984/170498071 [00:18<00:06, 7012482.76it/s]\u001b[A\n",
      " 73%|███████▎  | 125247488/170498071 [00:18<00:06, 7022976.22it/s]\u001b[A\n",
      " 74%|███████▍  | 126050304/170498071 [00:19<00:06, 7013307.15it/s]\u001b[A\n",
      " 74%|███████▍  | 126787584/170498071 [00:19<00:06, 7057806.48it/s]\u001b[A\n",
      " 75%|███████▍  | 127705088/170498071 [00:19<00:06, 7071868.73it/s]\u001b[A\n",
      " 75%|███████▌  | 128491520/170498071 [00:19<00:05, 7183065.51it/s]\u001b[A\n",
      " 76%|███████▌  | 129228800/170498071 [00:19<00:05, 7210592.26it/s]\u001b[A\n",
      " 76%|███████▋  | 130179072/170498071 [00:19<00:05, 7130979.78it/s]\u001b[A\n",
      " 77%|███████▋  | 130981888/170498071 [00:19<00:05, 7209259.20it/s]\u001b[A\n",
      " 77%|███████▋  | 131735552/170498071 [00:19<00:05, 7255695.85it/s]\u001b[A\n",
      " 78%|███████▊  | 132685824/170498071 [00:19<00:05, 7181760.50it/s]\u001b[A\n",
      " 78%|███████▊  | 133488640/170498071 [00:20<00:05, 7307527.34it/s]\u001b[A\n",
      " 79%|███████▊  | 134258688/170498071 [00:20<00:04, 7330887.73it/s]\u001b[A\n",
      " 79%|███████▉  | 135225344/170498071 [00:20<00:04, 7272292.19it/s]\u001b[A\n",
      " 80%|███████▉  | 136028160/170498071 [00:20<00:04, 7451822.30it/s]\u001b[A\n",
      " 80%|████████  | 136814592/170498071 [00:20<00:04, 7467542.35it/s]\u001b[A\n",
      " 81%|████████  | 137797632/170498071 [00:20<00:04, 7375462.80it/s]\u001b[A\n",
      " 81%|████████▏ | 138616832/170498071 [00:20<00:04, 7565288.74it/s]\u001b[A\n",
      " 82%|████████▏ | 139403264/170498071 [00:20<00:04, 7635780.51it/s]\u001b[A\n",
      " 82%|████████▏ | 140419072/170498071 [00:21<00:04, 7442033.63it/s]\u001b[A\n",
      " 83%|████████▎ | 141254656/170498071 [00:21<00:03, 7549566.51it/s]\u001b[A\n",
      " 83%|████████▎ | 142057472/170498071 [00:21<00:03, 7540597.12it/s]\u001b[A\n",
      " 84%|████████▍ | 143056896/170498071 [00:21<00:03, 7647990.37it/s]\u001b[A\n",
      " 84%|████████▍ | 143908864/170498071 [00:21<00:03, 7855075.87it/s]\u001b[A\n",
      " 85%|████████▍ | 144728064/170498071 [00:21<00:03, 7924407.52it/s]\u001b[A\n",
      " 85%|████████▌ | 145645568/170498071 [00:21<00:03, 8247463.70it/s]\u001b[A\n",
      " 86%|████████▌ | 146481152/170498071 [00:21<00:03, 6985924.18it/s]\u001b[A\n",
      " 86%|████████▋ | 147480576/170498071 [00:21<00:03, 7631092.17it/s]\u001b[A\n",
      " 87%|████████▋ | 148529152/170498071 [00:22<00:02, 7946896.31it/s]\u001b[A\n",
      " 88%|████████▊ | 149364736/170498071 [00:22<00:02, 7393096.17it/s]\u001b[A\n",
      " 88%|████████▊ | 150315008/170498071 [00:22<00:02, 7887399.22it/s]\u001b[A\n",
      " 89%|████████▉ | 151363584/170498071 [00:22<00:02, 8231125.02it/s]\u001b[A\n",
      " 89%|████████▉ | 152215552/170498071 [00:22<00:02, 7685136.62it/s]\u001b[A\n",
      " 90%|████████▉ | 153182208/170498071 [00:22<00:02, 8152621.65it/s]\u001b[A\n",
      " 90%|█████████ | 154263552/170498071 [00:22<00:01, 8519438.97it/s]\u001b[A\n",
      " 91%|█████████ | 155140096/170498071 [00:22<00:01, 7935106.71it/s]\u001b[A\n",
      " 92%|█████████▏| 156131328/170498071 [00:22<00:01, 8369752.13it/s]\u001b[A\n",
      " 92%|█████████▏| 157229056/170498071 [00:23<00:01, 8721255.23it/s]\u001b[A\n",
      " 93%|█████████▎| 158121984/170498071 [00:23<00:01, 8145352.67it/s]\u001b[A\n",
      " 93%|█████████▎| 159178752/170498071 [00:23<00:01, 8590111.45it/s]\u001b[A\n",
      " 94%|█████████▍| 160292864/170498071 [00:23<00:01, 8939923.39it/s]\u001b[A\n",
      " 95%|█████████▍| 161210368/170498071 [00:23<00:01, 8303382.94it/s]\u001b[A\n",
      " 95%|█████████▌| 162291712/170498071 [00:23<00:00, 8873807.69it/s]\u001b[A\n",
      " 96%|█████████▌| 163438592/170498071 [00:23<00:00, 9235236.51it/s]\u001b[A\n",
      " 96%|█████████▋| 164388864/170498071 [00:23<00:00, 8574927.36it/s]\u001b[A\n",
      " 97%|█████████▋| 165486592/170498071 [00:23<00:00, 9133356.55it/s]\u001b[A\n",
      " 98%|█████████▊| 166682624/170498071 [00:24<00:00, 9541475.00it/s]\u001b[A\n",
      " 98%|█████████▊| 167665664/170498071 [00:24<00:00, 8778451.70it/s]\u001b[A\n",
      " 99%|█████████▉| 168812544/170498071 [00:24<00:00, 9400416.58it/s]\u001b[A\n",
      "100%|█████████▉| 169787392/170498071 [00:24<00:00, 7359042.40it/s]\u001b[A"
     ]
    },
    {
     "name": "stdout",
     "output_type": "stream",
     "text": [
      "Files already downloaded and verified\n"
     ]
    }
   ],
   "source": [
    "# 1. download CIFAR10 and normalize it [0, 1] to [-1, 1]\n",
    "transform = transforms.Compose(\n",
    "    [transforms.ToTensor(),\n",
    "     transforms.Normalize((0.5, 0.5, 0.5), (0.5, 0.5, 0.5))])\n",
    "\n",
    "trainset = torchvision.datasets.CIFAR10(root='./data', train=True,\n",
    "                                        download=True, transform=transform)\n",
    "trainloader = torch.utils.data.DataLoader(trainset, batch_size=4,\n",
    "                                          shuffle=True, num_workers=2)\n",
    "\n",
    "testset = torchvision.datasets.CIFAR10(root='./data', train=False,\n",
    "                                       download=True, transform=transform)\n",
    "testloader = torch.utils.data.DataLoader(testset, batch_size=4,\n",
    "                                         shuffle=False, num_workers=2)\n",
    "\n",
    "classes = ('plane', 'car', 'bird', 'cat',\n",
    "           'deer', 'dog', 'frog', 'horse', 'ship', 'truck')"
   ]
  },
  {
   "cell_type": "code",
   "execution_count": 20,
   "metadata": {},
   "outputs": [
    {
     "name": "stdout",
     "output_type": "stream",
     "text": [
      "  cat   car   cat truck\n"
     ]
    },
    {
     "data": {
      "image/png": "[encoded data removed]",
      "text/plain": [
       "<Figure size 432x288 with 1 Axes>"
      ]
     },
     "metadata": {
      "needs_background": "light"
     },
     "output_type": "display_data"
    }
   ],
   "source": [
    "import matplotlib.pyplot as plt\n",
    "import numpy as np\n",
    "\n",
    "def imshow(img):\n",
    "    img = img / 2 + 0.5     # unnormalize\n",
    "    npimg = img.numpy()\n",
    "    plt.imshow(np.transpose(npimg, (1, 2, 0)))\n",
    "\n",
    "\n",
    "# select random training image\n",
    "dataiter = iter(trainloader)\n",
    "images, labels = dataiter.next()\n",
    "\n",
    "# show image\n",
    "imshow(torchvision.utils.make_grid(images))\n",
    "# print answer(label)\n",
    "print(' '.join('%5s' % classes[labels[j]] for j in range(4)))"
   ]
  },
  {
   "cell_type": "code",
   "execution_count": 21,
   "metadata": {},
   "outputs": [],
   "source": [
    "# 2. define cnn\n",
    "from torch.autograd import Variable\n",
    "import torch.nn as nn\n",
    "import torch.nn.functional as F\n",
    "\n",
    "\n",
    "class Net(nn.Module):\n",
    "    def __init__(self):\n",
    "        super(Net, self).__init__()\n",
    "        self.conv1 = nn.Conv2d(3, 6, 5)\n",
    "        self.pool = nn.MaxPool2d(2, 2)\n",
    "        self.conv2 = nn.Conv2d(6, 16, 5)\n",
    "        self.fc1 = nn.Linear(16 * 5 * 5, 120)\n",
    "        self.fc2 = nn.Linear(120, 84)\n",
    "        self.fc3 = nn.Linear(84, 10)\n",
    "\n",
    "    # overrided\n",
    "    def forward(self, x):\n",
    "        x = self.pool(F.relu(self.conv1(x)))\n",
    "        x = self.pool(F.relu(self.conv2(x)))\n",
    "        x = x.view(-1, 16 * 5 * 5)\n",
    "        x = F.relu(self.fc1(x))\n",
    "        x = F.relu(self.fc2(x))\n",
    "        x = self.fc3(x)\n",
    "        return x\n",
    "\n",
    "\n",
    "net = Net()"
   ]
  },
  {
   "cell_type": "code",
   "execution_count": 22,
   "metadata": {},
   "outputs": [],
   "source": [
    "# 3. define loss function and optimizer\n",
    "import torch.optim as optim\n",
    "\n",
    "criterion = nn.CrossEntropyLoss()\n",
    "optimizer = optim.SGD(net.parameters(), lr=0.001, momentum=0.9)"
   ]
  },
  {
   "cell_type": "code",
   "execution_count": 23,
   "metadata": {},
   "outputs": [
    {
     "name": "stdout",
     "output_type": "stream",
     "text": [
      "[1,  2000] loss: 2.231\n",
      "[1,  4000] loss: 1.879\n",
      "[1,  6000] loss: 1.689\n",
      "[1,  8000] loss: 1.594\n",
      "[1, 10000] loss: 1.491\n",
      "[1, 12000] loss: 1.447\n",
      "[2,  2000] loss: 1.403\n",
      "[2,  4000] loss: 1.342\n",
      "[2,  6000] loss: 1.321\n",
      "[2,  8000] loss: 1.307\n",
      "[2, 10000] loss: 1.263\n",
      "[2, 12000] loss: 1.269\n",
      "Finished Training\n"
     ]
    }
   ],
   "source": [
    "# 4. train\n",
    "for epoch in range(2):  # iterate dataset multiple times\n",
    "\n",
    "    running_loss = 0.0\n",
    "    for i, data in enumerate(trainloader, 0):\n",
    "        # get input\n",
    "        inputs, labels = data\n",
    "        inputs, labels = Variable(inputs), Variable(labels)\n",
    "\n",
    "        # we need to set all variables 0 before back propagation step\n",
    "        # because, by default, gradients are accumulated not be rewritten\n",
    "        # see torch.autograd.backward() documentation\n",
    "        optimizer.zero_grad()\n",
    "\n",
    "        # forward propagation:\n",
    "        # nn.Module.__call__() will be called by'net(inputs)'\n",
    "        # and Net.forward() will be called inside 'nn.Module.__call__()'\n",
    "        outputs = net(inputs)\n",
    "        \n",
    "        # get loss\n",
    "        loss = criterion(outputs, labels)\n",
    "        \n",
    "        # back propagation:\n",
    "        # if requires_grad = True, 'loss' has parameters(weights) of nn.Module\n",
    "        # therefore, loss.bakcward() works fine\n",
    "        loss.backward()\n",
    "        \n",
    "        # update all weights\n",
    "        optimizer.step()\n",
    "\n",
    "        # print statistics\n",
    "        running_loss += loss.data\n",
    "        if i % 2000 == 1999:    # print every 2000 mini-batches\n",
    "            print('[%d, %5d] loss: %.3f' %\n",
    "                  (epoch + 1, i + 1, running_loss / 2000))\n",
    "            running_loss = 0.0\n",
    "\n",
    "print('Finished Training')"
   ]
  },
  {
   "cell_type": "code",
   "execution_count": 27,
   "metadata": {},
   "outputs": [
    {
     "name": "stdout",
     "output_type": "stream",
     "text": [
      "GroundTruth:    cat  ship  ship plane\n"
     ]
    },
    {
     "data": {
      "image/png": "[encoded data removed]",
      "text/plain": [
       "<Figure size 432x288 with 1 Axes>"
      ]
     },
     "metadata": {
      "needs_background": "light"
     },
     "output_type": "display_data"
    }
   ],
   "source": [
    "# 5. test with test data\n",
    "dataiter = iter(testloader)\n",
    "images, labels = dataiter.next()\n",
    "\n",
    "# show groundtruth\n",
    "imshow(torchvision.utils.make_grid(images))\n",
    "print('GroundTruth: ', ' '.join('%5s' % classes[labels[j]] for j in range(4)))"
   ]
  },
  {
   "cell_type": "code",
   "execution_count": 28,
   "metadata": {},
   "outputs": [
    {
     "name": "stdout",
     "output_type": "stream",
     "text": [
      "Predicted:    cat  ship   car plane\n"
     ]
    }
   ],
   "source": [
    "# predict given images\n",
    "outputs = net(Variable(images))\n",
    "\n",
    "_, predicted = torch.max(outputs.data, 1)\n",
    "\n",
    "print('Predicted: ', ' '.join('%5s' % classes[predicted[j]]\n",
    "                              for j in range(4)))"
   ]
  },
  {
   "cell_type": "code",
   "execution_count": 29,
   "metadata": {},
   "outputs": [
    {
     "name": "stdout",
     "output_type": "stream",
     "text": [
      "Accuracy of the network on the 10000 test images: 52 %\n"
     ]
    }
   ],
   "source": [
    "# pridict all test data\n",
    "correct = 0\n",
    "total = 0\n",
    "for data in testloader:\n",
    "    images, labels = data\n",
    "    outputs = net(Variable(images))\n",
    "    _, predicted = torch.max(outputs.data, 1)\n",
    "    total += labels.size(0)\n",
    "    correct += (predicted == labels).sum()\n",
    "\n",
    "print('Accuracy of the network on the 10000 test images: %d %%' % (\n",
    "    100 * correct / total))"
   ]
  },
  {
   "cell_type": "code",
   "execution_count": 48,
   "metadata": {},
   "outputs": [
    {
     "name": "stdout",
     "output_type": "stream",
     "text": [
      "Accuracy of plane :  1 %\n",
      "Accuracy of   car : 13 %\n",
      "Accuracy of  bird : 21 %\n",
      "Accuracy of   cat :  4 %\n",
      "Accuracy of  deer : 23 %\n",
      "Accuracy of   dog : 11 %\n",
      "Accuracy of  frog : 21 %\n",
      "Accuracy of horse :  5 %\n",
      "Accuracy of  ship :  9 %\n",
      "Accuracy of truck :  6 %\n"
     ]
    }
   ],
   "source": [
    "# evaluate accuracy\n",
    "class_correct = list(0. for i in range(10))\n",
    "class_total = list(0. for i in range(10))\n",
    "for data in testloader:\n",
    "    images, labels = data\n",
    "    outputs = net(Variable(images))\n",
    "    _, predicted = torch.max(outputs.data, 1)\n",
    "    c = (predicted == labels).squeeze()\n",
    "    for i in range(4):\n",
    "        label = labels[i]\n",
    "        class_correct[label] += c[i]\n",
    "        class_total[label] += 1\n",
    "\n",
    "\n",
    "for i in range(10):\n",
    "    print('Accuracy of %5s : %2d %%' % (\n",
    "        classes[i], 100 * float(class_correct[i]) / class_total[i]))"
   ]
  },
  {
   "cell_type": "code",
   "execution_count": null,
   "metadata": {},
   "outputs": [],
   "source": []
  }
 ],
 "metadata": {
  "kernelspec": {
   "display_name": "Python 3",
   "language": "python",
   "name": "python3"
  },
  "language_info": {
   "codemirror_mode": {
    "name": "ipython",
    "version": 3
   },
   "file_extension": ".py",
   "mimetype": "text/x-python",
   "name": "python",
   "nbconvert_exporter": "python",
   "pygments_lexer": "ipython3",
   "version": "3.5.2"
  }
 },
 "nbformat": 4,
 "nbformat_minor": 2
}
